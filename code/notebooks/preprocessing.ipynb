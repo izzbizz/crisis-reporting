{
 "cells": [
  {
   "cell_type": "markdown",
   "metadata": {},
   "source": [
    "# notebook to retrieve articles from URLs and return clean dataframe"
   ]
  },
  {
   "cell_type": "code",
   "execution_count": null,
   "metadata": {},
   "outputs": [],
   "source": [
    "import re\n",
    "import pandas as pd\n",
    "from urllib.request import urlopen\n",
    "from boilerpipe.extract import Extractor\n",
    "from collections import Counter\n",
    "from newspaper import Article\n",
    "from bs4 import BeautifulSoup"
   ]
  },
  {
   "cell_type": "markdown",
   "metadata": {},
   "source": [
    "### concatenate bahamas dataframes / load mozambique dataframe "
   ]
  },
  {
   "cell_type": "code",
   "execution_count": 2,
   "metadata": {},
   "outputs": [],
   "source": [
    "df1 = pd.read_csv('./data/search_bahamas_20190901_to_20190904.csv')\n",
    "df2 = pd.read_csv('./data/search_bahamas_20190905_to_20190908.csv')\n",
    "df3 = pd.read_csv('./data/search_bahamas_20190909_to_20190912.csv')\n",
    "df4 = pd.read_csv('./data/search_bahamas_20190913_to_20190916.csv')\n",
    "df5 = pd.read_csv('./data/search_bahamas_20190917_to_20190920.csv')\n",
    "df6 = pd.read_csv('./data/search_bahamas_20190921_to_20191001.csv')\n",
    "\n",
    "df = pd.concat([df1, df2, df3, df4, df5, df6])"
   ]
  },
  {
   "cell_type": "code",
   "execution_count": 2,
   "metadata": {},
   "outputs": [],
   "source": [
    "#df = pd.read_csv('./data/search_mozambique_20190315_to_20190414.csv')"
   ]
  },
  {
   "cell_type": "code",
   "execution_count": 3,
   "metadata": {},
   "outputs": [
    {
     "data": {
      "text/plain": [
       "29196"
      ]
     },
     "execution_count": 3,
     "metadata": {},
     "output_type": "execute_result"
    }
   ],
   "source": [
    "len(df)"
   ]
  },
  {
   "cell_type": "markdown",
   "metadata": {},
   "source": [
    "### drop rows with the same URL"
   ]
  },
  {
   "cell_type": "code",
   "execution_count": 4,
   "metadata": {},
   "outputs": [],
   "source": [
    "df = df.drop_duplicates(subset='SOURCEURL')"
   ]
  },
  {
   "cell_type": "code",
   "execution_count": 5,
   "metadata": {},
   "outputs": [
    {
     "data": {
      "text/plain": [
       "4042    https://www.shreveporttimes.com/story/news/nat...\n",
       "136     https://haitiantimes.com/2019/09/11/give-paper...\n",
       "740     https://thenassauguardian.com/2019/09/04/rci-c...\n",
       "5693    https://www.wuwm.com/post/after-hurricane-dori...\n",
       "1839    https://www.twst.com/update/delta-air-lines-in...\n",
       "2304    https://thenassauguardian.com/2019/09/25/the-p...\n",
       "1960    https://reliefweb.int/report/bahamas/bahamas-h...\n",
       "5423    https://reliefweb.int/report/bahamas/uk-govern...\n",
       "2       https://www.kptv.com/news/local-non-profit-gro...\n",
       "2742    https://www.dailymail.co.uk/tvshowbiz/article-...\n",
       "Name: SOURCEURL, dtype: object"
      ]
     },
     "execution_count": 5,
     "metadata": {},
     "output_type": "execute_result"
    }
   ],
   "source": [
    "df.sample(10).SOURCEURL"
   ]
  },
  {
   "cell_type": "code",
   "execution_count": 26,
   "metadata": {},
   "outputs": [
    {
     "data": {
      "text/plain": [
       "9375"
      ]
     },
     "execution_count": 26,
     "metadata": {},
     "output_type": "execute_result"
    }
   ],
   "source": [
    "len(df)"
   ]
  },
  {
   "cell_type": "markdown",
   "metadata": {},
   "source": [
    "### crawl page (with newspaper / boilerpipe)"
   ]
  },
  {
   "cell_type": "code",
   "execution_count": 6,
   "metadata": {
    "scrolled": true
   },
   "outputs": [],
   "source": [
    "'''newspaper'''\n",
    "def crawl_page(url):\n",
    "    try:\n",
    "        art = Article(url)\n",
    "        art.download()\n",
    "        art.parse()\n",
    "        return art.text\n",
    "    except:\n",
    "        return"
   ]
  },
  {
   "cell_type": "code",
   "execution_count": 39,
   "metadata": {},
   "outputs": [],
   "source": [
    "'''boilerpipe'''\n",
    "def crawl_page_blplt(url):\n",
    "    try:\n",
    "        extr = Extractor(extractor='ArticleExtractor', url=url)\n",
    "        return extr.getText()\n",
    "    except:\n",
    "        return"
   ]
  },
  {
   "cell_type": "code",
   "execution_count": 9,
   "metadata": {},
   "outputs": [
    {
     "data": {
      "text/plain": [
       "'0\\n2369Views\\nDespite not knowing the extent of the damage sustained on Grand Bahama from Hurricane Dorian,\\xa0Royal Caribbean International (RCI) Chief Executive Officer Michael Bayley and\\xa0Carnival Corporation\\xa0Chief Executive Officer\\xa0Arnold Donald reasserted their commitments to their development projects on the island.\\nCarnival has already committed to the construction of a cruise port on Grand Bahama; while Holistica – a joint venture company formed by RCI and ITM Group – continues its negotiations with the government to redevelop Freeport’s cruise port and the Grand Lucayan resort complex.\\nIn statements sent to the media yesterday, both RCI and Carnival also committed to helping Grand Bahama and Abaco with rebuilding efforts.\\nMichael Bayley.\\nHurricane Matthew caused parts of the Grand Lucayan to be shut down three years ago. The property was subsequently taken over by the government to ensure that jobs were secure and the property could be sold as quickly as possible.\\nIf a deal is reached with RCI, the company could receive the resort in a worsened state after the passage of Hurricane Dorian, though\\xa0Minister of Tourism and Aviation Dionisio D’Aguilar reported on Sunday that the\\xa0Grand Lucayan complex is completely insured in case of catastrophic loss.\\nD’Aguilar also added that Holistica’s redevelopment plans call for the partial demolition of the complex in any event.\\nBayley said in his statement that RCI is committed to the long-term success of The Bahamas’ tourism industry.\\n“While we are all focused on offering assistance with the hurricane recovery, we would like to assure the minister and people of The Bahamas that we remain committed to this project and to the long-term success of the Bahamian tourism industry,” said\\xa0Bayley.\\nRCI officially opened its “Perfect Day at Coco Cay” product recently on a private cay in the Berry Islands.\\nIn his statement, Donald restated Carnival’s commitment to both its Grand Bahama project and its proposed redevelopment of its private island Half Moon Cay.\\n“On behalf of all of us at Carnival Corporation and our cruise line brands, let me begin by saying our thoughts and prayers go out to the great people of The Bahamas — our friends and partners for many years,” he said.\\n“It was very emotional seeing reports of Hurricane Dorian’s impact over the past couple days. Our hearts go out to those who have lost friends and loved ones and whose homes and businesses have been destroyed or damaged.\\n“In recent weeks, there have been questions about our commitment to two major projects on the islands of Grand Bahama and Half Moon Cay. We remain fully committed to those projects as part of the recovery and rebuilding process.”\\n'"
      ]
     },
     "execution_count": 9,
     "metadata": {},
     "output_type": "execute_result"
    }
   ],
   "source": [
    "'''example'''\n",
    "crawl_page('https://thenassauguardian.com/2019/09/04/rci-carnival-still-committed-to-development-projects/')"
   ]
  },
  {
   "cell_type": "code",
   "execution_count": 28,
   "metadata": {
    "scrolled": false
   },
   "outputs": [
    {
     "name": "stderr",
     "output_type": "stream",
     "text": [
      "/home/iz/anaconda3/lib/python3.7/site-packages/PIL/TiffImagePlugin.py:768: UserWarning: Possibly corrupt EXIF data.  Expecting to read 8 bytes but only got 0. Skipping tag 33434\n",
      "  \" Skipping tag %s\" % (size, len(data), tag))\n",
      "/home/iz/anaconda3/lib/python3.7/site-packages/PIL/TiffImagePlugin.py:768: UserWarning: Possibly corrupt EXIF data.  Expecting to read 8 bytes but only got 0. Skipping tag 33437\n",
      "  \" Skipping tag %s\" % (size, len(data), tag))\n",
      "/home/iz/anaconda3/lib/python3.7/site-packages/PIL/TiffImagePlugin.py:768: UserWarning: Possibly corrupt EXIF data.  Expecting to read 20 bytes but only got 0. Skipping tag 36867\n",
      "  \" Skipping tag %s\" % (size, len(data), tag))\n",
      "/home/iz/anaconda3/lib/python3.7/site-packages/PIL/TiffImagePlugin.py:768: UserWarning: Possibly corrupt EXIF data.  Expecting to read 20 bytes but only got 0. Skipping tag 36868\n",
      "  \" Skipping tag %s\" % (size, len(data), tag))\n",
      "/home/iz/anaconda3/lib/python3.7/site-packages/PIL/TiffImagePlugin.py:768: UserWarning: Possibly corrupt EXIF data.  Expecting to read 8 bytes but only got 0. Skipping tag 37377\n",
      "  \" Skipping tag %s\" % (size, len(data), tag))\n",
      "/home/iz/anaconda3/lib/python3.7/site-packages/PIL/TiffImagePlugin.py:768: UserWarning: Possibly corrupt EXIF data.  Expecting to read 8 bytes but only got 0. Skipping tag 37378\n",
      "  \" Skipping tag %s\" % (size, len(data), tag))\n",
      "/home/iz/anaconda3/lib/python3.7/site-packages/PIL/TiffImagePlugin.py:768: UserWarning: Possibly corrupt EXIF data.  Expecting to read 8 bytes but only got 0. Skipping tag 37380\n",
      "  \" Skipping tag %s\" % (size, len(data), tag))\n",
      "/home/iz/anaconda3/lib/python3.7/site-packages/PIL/TiffImagePlugin.py:768: UserWarning: Possibly corrupt EXIF data.  Expecting to read 8 bytes but only got 0. Skipping tag 37381\n",
      "  \" Skipping tag %s\" % (size, len(data), tag))\n",
      "/home/iz/anaconda3/lib/python3.7/site-packages/PIL/TiffImagePlugin.py:768: UserWarning: Possibly corrupt EXIF data.  Expecting to read 8 bytes but only got 0. Skipping tag 37382\n",
      "  \" Skipping tag %s\" % (size, len(data), tag))\n",
      "/home/iz/anaconda3/lib/python3.7/site-packages/PIL/TiffImagePlugin.py:768: UserWarning: Possibly corrupt EXIF data.  Expecting to read 8 bytes but only got 0. Skipping tag 37386\n",
      "  \" Skipping tag %s\" % (size, len(data), tag))\n",
      "/home/iz/anaconda3/lib/python3.7/site-packages/PIL/TiffImagePlugin.py:768: UserWarning: Possibly corrupt EXIF data.  Expecting to read 8 bytes but only got 0. Skipping tag 41486\n",
      "  \" Skipping tag %s\" % (size, len(data), tag))\n",
      "/home/iz/anaconda3/lib/python3.7/site-packages/PIL/TiffImagePlugin.py:768: UserWarning: Possibly corrupt EXIF data.  Expecting to read 8 bytes but only got 0. Skipping tag 41487\n",
      "  \" Skipping tag %s\" % (size, len(data), tag))\n",
      "/home/iz/anaconda3/lib/python3.7/site-packages/PIL/TiffImagePlugin.py:768: UserWarning: Possibly corrupt EXIF data.  Expecting to read 13 bytes but only got 0. Skipping tag 42033\n",
      "  \" Skipping tag %s\" % (size, len(data), tag))\n",
      "/home/iz/anaconda3/lib/python3.7/site-packages/PIL/TiffImagePlugin.py:785: UserWarning: Corrupt EXIF data.  Expecting to read 12 bytes but only got 10. \n",
      "  warnings.warn(str(msg))\n"
     ]
    }
   ],
   "source": [
    "df['article'] = df.SOURCEURL.apply(lambda url: crawl_page(url))"
   ]
  },
  {
   "cell_type": "code",
   "execution_count": 14,
   "metadata": {},
   "outputs": [
    {
     "data": {
      "text/html": [
       "<div>\n",
       "<style scoped>\n",
       "    .dataframe tbody tr th:only-of-type {\n",
       "        vertical-align: middle;\n",
       "    }\n",
       "\n",
       "    .dataframe tbody tr th {\n",
       "        vertical-align: top;\n",
       "    }\n",
       "\n",
       "    .dataframe thead th {\n",
       "        text-align: right;\n",
       "    }\n",
       "</style>\n",
       "<table border=\"1\" class=\"dataframe\">\n",
       "  <thead>\n",
       "    <tr style=\"text-align: right;\">\n",
       "      <th></th>\n",
       "      <th>GLOBALEVENTID</th>\n",
       "      <th>SQLDATE</th>\n",
       "      <th>MonthYear</th>\n",
       "      <th>Year</th>\n",
       "      <th>FractionDate</th>\n",
       "      <th>Actor1Code</th>\n",
       "      <th>Actor1Name</th>\n",
       "      <th>Actor1CountryCode</th>\n",
       "      <th>Actor1KnownGroupCode</th>\n",
       "      <th>Actor1EthnicCode</th>\n",
       "      <th>...</th>\n",
       "      <th>ActionGeo_Type</th>\n",
       "      <th>ActionGeo_FullName</th>\n",
       "      <th>ActionGeo_CountryCode</th>\n",
       "      <th>ActionGeo_ADM1Code</th>\n",
       "      <th>ActionGeo_Lat</th>\n",
       "      <th>ActionGeo_Long</th>\n",
       "      <th>ActionGeo_FeatureID</th>\n",
       "      <th>DATEADDED</th>\n",
       "      <th>SOURCEURL</th>\n",
       "      <th>article</th>\n",
       "    </tr>\n",
       "  </thead>\n",
       "  <tbody>\n",
       "    <tr>\n",
       "      <th>9234</th>\n",
       "      <td>832297774</td>\n",
       "      <td>20190319</td>\n",
       "      <td>201903</td>\n",
       "      <td>2019</td>\n",
       "      <td>2019.2164</td>\n",
       "      <td>MOZ</td>\n",
       "      <td>MAPUTO</td>\n",
       "      <td>MOZ</td>\n",
       "      <td>NaN</td>\n",
       "      <td>NaN</td>\n",
       "      <td>...</td>\n",
       "      <td>4</td>\n",
       "      <td>Maputo, Maputo, Mozambique</td>\n",
       "      <td>MZ</td>\n",
       "      <td>MZ04</td>\n",
       "      <td>-25.9653</td>\n",
       "      <td>32.5892</td>\n",
       "      <td>-319029</td>\n",
       "      <td>20190320</td>\n",
       "      <td>http://humanitariannews.org/20190320/mozambiqu...</td>\n",
       "      <td>Source: Department for International Developme...</td>\n",
       "    </tr>\n",
       "    <tr>\n",
       "      <th>9236</th>\n",
       "      <td>832160645</td>\n",
       "      <td>20190320</td>\n",
       "      <td>201903</td>\n",
       "      <td>2019</td>\n",
       "      <td>2019.2192</td>\n",
       "      <td>IGOEUREEC</td>\n",
       "      <td>THE EU</td>\n",
       "      <td>EUR</td>\n",
       "      <td>EEC</td>\n",
       "      <td>NaN</td>\n",
       "      <td>...</td>\n",
       "      <td>4</td>\n",
       "      <td>Beira, Sofala, Mozambique</td>\n",
       "      <td>MZ</td>\n",
       "      <td>MZ05</td>\n",
       "      <td>-19.8436</td>\n",
       "      <td>34.8389</td>\n",
       "      <td>-307278</td>\n",
       "      <td>20190320</td>\n",
       "      <td>https://www.theguardian.com/world/2019/mar/20/...</td>\n",
       "      <td>Top story: ‘We just save what we can’\\n\\nHello...</td>\n",
       "    </tr>\n",
       "    <tr>\n",
       "      <th>9237</th>\n",
       "      <td>836021254</td>\n",
       "      <td>20190404</td>\n",
       "      <td>201904</td>\n",
       "      <td>2019</td>\n",
       "      <td>2019.2575</td>\n",
       "      <td>MOZ</td>\n",
       "      <td>MOZAMBIQUE</td>\n",
       "      <td>MOZ</td>\n",
       "      <td>NaN</td>\n",
       "      <td>NaN</td>\n",
       "      <td>...</td>\n",
       "      <td>1</td>\n",
       "      <td>Mozambique</td>\n",
       "      <td>MZ</td>\n",
       "      <td>MZ</td>\n",
       "      <td>-18.2500</td>\n",
       "      <td>35.0000</td>\n",
       "      <td>MZ</td>\n",
       "      <td>20190404</td>\n",
       "      <td>https://www.architecturaldigest.com/story/bjar...</td>\n",
       "      <td>Policymakers, climatologists, and architects h...</td>\n",
       "    </tr>\n",
       "    <tr>\n",
       "      <th>9239</th>\n",
       "      <td>835070878</td>\n",
       "      <td>20190401</td>\n",
       "      <td>201904</td>\n",
       "      <td>2019</td>\n",
       "      <td>2019.2493</td>\n",
       "      <td>AGO</td>\n",
       "      <td>ANGOLA</td>\n",
       "      <td>AGO</td>\n",
       "      <td>NaN</td>\n",
       "      <td>NaN</td>\n",
       "      <td>...</td>\n",
       "      <td>1</td>\n",
       "      <td>Mozambique</td>\n",
       "      <td>MZ</td>\n",
       "      <td>MZ</td>\n",
       "      <td>-18.2500</td>\n",
       "      <td>35.0000</td>\n",
       "      <td>MZ</td>\n",
       "      <td>20190401</td>\n",
       "      <td>https://smallwarsjournal.com/blog/russias-mili...</td>\n",
       "      <td>Russia’s Military Mission Creep Advances to a ...</td>\n",
       "    </tr>\n",
       "    <tr>\n",
       "      <th>9255</th>\n",
       "      <td>832450918</td>\n",
       "      <td>20190321</td>\n",
       "      <td>201903</td>\n",
       "      <td>2019</td>\n",
       "      <td>2019.2219</td>\n",
       "      <td>ZWEGOVMED</td>\n",
       "      <td>NELSON CHAMISA</td>\n",
       "      <td>ZWE</td>\n",
       "      <td>NaN</td>\n",
       "      <td>NaN</td>\n",
       "      <td>...</td>\n",
       "      <td>1</td>\n",
       "      <td>Mozambique</td>\n",
       "      <td>MZ</td>\n",
       "      <td>MZ</td>\n",
       "      <td>-18.2500</td>\n",
       "      <td>35.0000</td>\n",
       "      <td>MZ</td>\n",
       "      <td>20190321</td>\n",
       "      <td>https://bulawayo24.com/news/national/158701</td>\n",
       "      <td>News / National\\n\\nby Mandla Ndlovu\\n\\nMDC lea...</td>\n",
       "    </tr>\n",
       "  </tbody>\n",
       "</table>\n",
       "<p>5 rows × 59 columns</p>\n",
       "</div>"
      ],
      "text/plain": [
       "      GLOBALEVENTID   SQLDATE  MonthYear  Year  FractionDate Actor1Code  \\\n",
       "9234      832297774  20190319     201903  2019     2019.2164        MOZ   \n",
       "9236      832160645  20190320     201903  2019     2019.2192  IGOEUREEC   \n",
       "9237      836021254  20190404     201904  2019     2019.2575        MOZ   \n",
       "9239      835070878  20190401     201904  2019     2019.2493        AGO   \n",
       "9255      832450918  20190321     201903  2019     2019.2219  ZWEGOVMED   \n",
       "\n",
       "          Actor1Name Actor1CountryCode Actor1KnownGroupCode Actor1EthnicCode  \\\n",
       "9234          MAPUTO               MOZ                  NaN              NaN   \n",
       "9236          THE EU               EUR                  EEC              NaN   \n",
       "9237      MOZAMBIQUE               MOZ                  NaN              NaN   \n",
       "9239          ANGOLA               AGO                  NaN              NaN   \n",
       "9255  NELSON CHAMISA               ZWE                  NaN              NaN   \n",
       "\n",
       "      ... ActionGeo_Type          ActionGeo_FullName ActionGeo_CountryCode  \\\n",
       "9234  ...              4  Maputo, Maputo, Mozambique                    MZ   \n",
       "9236  ...              4   Beira, Sofala, Mozambique                    MZ   \n",
       "9237  ...              1                  Mozambique                    MZ   \n",
       "9239  ...              1                  Mozambique                    MZ   \n",
       "9255  ...              1                  Mozambique                    MZ   \n",
       "\n",
       "     ActionGeo_ADM1Code ActionGeo_Lat ActionGeo_Long ActionGeo_FeatureID  \\\n",
       "9234               MZ04      -25.9653        32.5892             -319029   \n",
       "9236               MZ05      -19.8436        34.8389             -307278   \n",
       "9237                 MZ      -18.2500        35.0000                  MZ   \n",
       "9239                 MZ      -18.2500        35.0000                  MZ   \n",
       "9255                 MZ      -18.2500        35.0000                  MZ   \n",
       "\n",
       "     DATEADDED                                          SOURCEURL  \\\n",
       "9234  20190320  http://humanitariannews.org/20190320/mozambiqu...   \n",
       "9236  20190320  https://www.theguardian.com/world/2019/mar/20/...   \n",
       "9237  20190404  https://www.architecturaldigest.com/story/bjar...   \n",
       "9239  20190401  https://smallwarsjournal.com/blog/russias-mili...   \n",
       "9255  20190321        https://bulawayo24.com/news/national/158701   \n",
       "\n",
       "                                                article  \n",
       "9234  Source: Department for International Developme...  \n",
       "9236  Top story: ‘We just save what we can’\\n\\nHello...  \n",
       "9237  Policymakers, climatologists, and architects h...  \n",
       "9239  Russia’s Military Mission Creep Advances to a ...  \n",
       "9255  News / National\\n\\nby Mandla Ndlovu\\n\\nMDC lea...  \n",
       "\n",
       "[5 rows x 59 columns]"
      ]
     },
     "execution_count": 14,
     "metadata": {},
     "output_type": "execute_result"
    }
   ],
   "source": [
    "df.tail()"
   ]
  },
  {
   "cell_type": "markdown",
   "metadata": {},
   "source": [
    "### exclude rows where article could not be extracted"
   ]
  },
  {
   "cell_type": "code",
   "execution_count": 29,
   "metadata": {},
   "outputs": [],
   "source": [
    "art_df = df[df.article.notna()]"
   ]
  },
  {
   "cell_type": "code",
   "execution_count": 30,
   "metadata": {},
   "outputs": [
    {
     "data": {
      "text/plain": [
       "7581"
      ]
     },
     "execution_count": 30,
     "metadata": {},
     "output_type": "execute_result"
    }
   ],
   "source": [
    "len(art_df)"
   ]
  },
  {
   "cell_type": "markdown",
   "metadata": {},
   "source": [
    "### check that articles contain one or both of the keywords"
   ]
  },
  {
   "cell_type": "code",
   "execution_count": 31,
   "metadata": {},
   "outputs": [],
   "source": [
    "rel_df = art_df[art_df.article.str.contains('(?i)hurricane|dorian')]"
   ]
  },
  {
   "cell_type": "code",
   "execution_count": 32,
   "metadata": {},
   "outputs": [
    {
     "data": {
      "text/plain": [
       "6038"
      ]
     },
     "execution_count": 32,
     "metadata": {},
     "output_type": "execute_result"
    }
   ],
   "source": [
    "len(rel_df)"
   ]
  },
  {
   "cell_type": "code",
   "execution_count": 33,
   "metadata": {},
   "outputs": [],
   "source": [
    "rel_df.to_csv('./data/search_bahamas_20190901_to_20191001_nwsppr.csv')"
   ]
  }
 ],
 "metadata": {
  "kernelspec": {
   "display_name": "Python 3",
   "language": "python",
   "name": "python3"
  },
  "language_info": {
   "codemirror_mode": {
    "name": "ipython",
    "version": 3
   },
   "file_extension": ".py",
   "mimetype": "text/x-python",
   "name": "python",
   "nbconvert_exporter": "python",
   "pygments_lexer": "ipython3",
   "version": "3.6.8"
  }
 },
 "nbformat": 4,
 "nbformat_minor": 2
}
